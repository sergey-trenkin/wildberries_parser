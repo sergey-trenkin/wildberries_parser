{
 "cells": [
  {
   "cell_type": "code",
   "execution_count": 134,
   "metadata": {},
   "outputs": [],
   "source": [
    "file = r'C:\\Users\\Trenkin.Sergey\\Desktop\\wb\\WB - Ювелирные изделия - Товары 15012024 - 13022024 14022024.csv'"
   ]
  },
  {
   "cell_type": "code",
   "execution_count": 135,
   "metadata": {},
   "outputs": [],
   "source": [
    "import pandas as pd\n",
    "import numpy as np\n",
    "import requests \n",
    "from tqdm import tqdm\n",
    "from datetime import date\n",
    "from fake_useragent import UserAgent\n",
    "import warnings\n",
    "import time \n",
    "\n",
    "warnings.filterwarnings('ignore')"
   ]
  },
  {
   "cell_type": "code",
   "execution_count": 136,
   "metadata": {},
   "outputs": [],
   "source": [
    "mpstats = pd.read_csv(file, sep=';', on_bad_lines='skip')"
   ]
  },
  {
   "cell_type": "code",
   "execution_count": 137,
   "metadata": {},
   "outputs": [],
   "source": [
    "old = mpstats.Category.tolist()\n",
    "category = list()\n",
    "for cat in old:\n",
    "    cat = cat.split('/')[-1]\n",
    "    category.append(cat)"
   ]
  },
  {
   "cell_type": "code",
   "execution_count": 138,
   "metadata": {},
   "outputs": [],
   "source": [
    "bask = mpstats.Thumb.tolist()\n",
    "basket = list()\n",
    "for b in bask:\n",
    "    b = b.split('/')[:-3]\n",
    "    if '' in b:\n",
    "        b.remove('')\n",
    "    b = f'{b[0]}//{b[1]}/{b[2]}/{b[3]}/{b[4]}/info/ru/card.json'\n",
    "    basket.append(b)"
   ]
  },
  {
   "cell_type": "code",
   "execution_count": 139,
   "metadata": {},
   "outputs": [],
   "source": [
    "df = pd.DataFrame({'name': mpstats.Name.tolist(), \n",
    "                   'category': category,\n",
    "                   'url': mpstats.URL.tolist(),\n",
    "                   'basket': basket,\n",
    "                   'count': mpstats.Balance.tolist(),\n",
    "                   'price': mpstats['Final price'].tolist()})"
   ]
  },
  {
   "cell_type": "code",
   "execution_count": 140,
   "metadata": {},
   "outputs": [],
   "source": [
    "links = df.basket.tolist()"
   ]
  },
  {
   "cell_type": "code",
   "execution_count": 141,
   "metadata": {},
   "outputs": [],
   "source": [
    "weights = list()\n",
    "probas = list()\n",
    "inserts = list()\n",
    "metals = list()\n",
    "locks = list()\n",
    "coatings = list()"
   ]
  },
  {
   "cell_type": "code",
   "execution_count": 142,
   "metadata": {},
   "outputs": [
    {
     "name": "stderr",
     "output_type": "stream",
     "text": [
      "  0%|          | 383/117862 [01:07<3:15:03, 10.04it/s] "
     ]
    }
   ],
   "source": [
    "for link in tqdm(links):\n",
    "    ua = UserAgent()\n",
    "    headers = {'User-Agent': ua.random}\n",
    "    \n",
    "    try:\n",
    "        json = requests.get(link, headers=headers, timeout=30, verify=False).json()\n",
    "    except Exception as ex:\n",
    "        time.sleep(60)\n",
    "        json = requests.get(link, headers=headers, timeout=30, verify=False).json()\n",
    "        \n",
    "    try:\n",
    "        for option in json['grouped_options'][0]['options']:\n",
    "            char = option['name']\n",
    "            value = option['value']\n",
    "            if char == 'Состав ювелирного изделия':\n",
    "                metal = value\n",
    "            elif char == 'Проба':\n",
    "                proba = value\n",
    "            elif char == 'Вставка':\n",
    "                insert = value\n",
    "            elif char == 'Минимальный вес (г)':\n",
    "                weight = value.replace(' г', '')\n",
    "            elif char == 'Вид замка':\n",
    "                lock = value\n",
    "            elif char == 'Покрытие':\n",
    "                coating = value\n",
    "    except:\n",
    "        pass\n",
    "    \n",
    "    try:\n",
    "        for option in json['options']:\n",
    "            char = option['name']\n",
    "            value = option['value']\n",
    "            if char == 'Состав ювелирного изделия':\n",
    "                metal = value\n",
    "            elif char == 'Проба':\n",
    "                proba = value\n",
    "            elif char == 'Вставка':\n",
    "                insert = value\n",
    "            elif char == 'Минимальный вес (г)':\n",
    "                weight = value.replace(' г', '')\n",
    "            elif char == 'Вид замка':\n",
    "                lock = value\n",
    "            elif char == 'Покрытие':\n",
    "                coating = value\n",
    "    except:\n",
    "        pass \n",
    "    \n",
    "    try:\n",
    "        brand = json['selling']['brand_name']\n",
    "    except:\n",
    "        brand = np.nan\n",
    "    try:\n",
    "        weights.append(weight)\n",
    "    except:\n",
    "        weights.append(np.nan)\n",
    "    try:\n",
    "        probas.append(proba)\n",
    "    except:\n",
    "        probas.append(np.nan)\n",
    "    try:\n",
    "        inserts.append(insert)\n",
    "    except:\n",
    "        inserts.append(np.nan)\n",
    "    try:\n",
    "        metals.append(metal)\n",
    "    except:\n",
    "        metals.append(np.nan)\n",
    "    try:\n",
    "        locks.append(lock)\n",
    "    except:\n",
    "        locks.append(np.nan)\n",
    "    try:\n",
    "        coatings.append(coating)\n",
    "    except:\n",
    "        coatings.append(np.nan)\n",
    "\n",
    "        \n",
    "result = pd.DataFrame({'weight': weights,\n",
    "                       'proba': probas,\n",
    "                       'insert': inserts,\n",
    "                       'metal': metals,\n",
    "                       'lock': locks,\n",
    "                       'coating': coatings})"
   ]
  },
  {
   "cell_type": "code",
   "execution_count": null,
   "metadata": {},
   "outputs": [],
   "source": [
    "data = pd.concat([df, result], axis=1)"
   ]
  },
  {
   "cell_type": "code",
   "execution_count": null,
   "metadata": {},
   "outputs": [],
   "source": [
    "data.to_excel('wb.xlsx', index=False)"
   ]
  },
  {
   "cell_type": "code",
   "execution_count": null,
   "metadata": {},
   "outputs": [],
   "source": []
  }
 ],
 "metadata": {
  "kernelspec": {
   "display_name": "Python 3",
   "language": "python",
   "name": "python3"
  },
  "language_info": {
   "codemirror_mode": {
    "name": "ipython",
    "version": 3
   },
   "file_extension": ".py",
   "mimetype": "text/x-python",
   "name": "python",
   "nbconvert_exporter": "python",
   "pygments_lexer": "ipython3",
   "version": "3.12.0"
  }
 },
 "nbformat": 4,
 "nbformat_minor": 2
}
